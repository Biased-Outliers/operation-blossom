{
  "cells": [
    {
      "cell_type": "code",
      "execution_count": null,
      "metadata": {
        "id": "TCpmLOE2-YF1"
      },
      "outputs": [],
      "source": [
        "import numpy as np\n",
        "import os\n",
        "import PIL\n",
        "import PIL.Image\n",
        "import tensorflow as tf\n",
        "import tensorflow_datasets as tfds"
      ]
    },
    {
      "cell_type": "code",
      "execution_count": null,
      "metadata": {
        "colab": {
          "base_uri": "https://localhost:8080/"
        },
        "id": "C44LzFMq-bE0",
        "outputId": "ef2ce2ad-5047-42b4-f05b-9e7bfdd1c1d1"
      },
      "outputs": [
        {
          "name": "stdout",
          "output_type": "stream",
          "text": [
            "Downloading data from https://storage.googleapis.com/download.tensorflow.org/example_images/flower_photos.tgz\n",
            "228813984/228813984 [==============================] - 6s 0us/step\n"
          ]
        }
      ],
      "source": [
        "import pathlib\n",
        "dataset_url = \"https://storage.googleapis.com/download.tensorflow.org/example_images/flower_photos.tgz\"\n",
        "data_dir = tf.keras.utils.get_file(\n",
        "  origin=dataset_url,\n",
        "  fname='flower_photos',\n",
        "  untar=True\n",
        ")\n",
        "data_dir = pathlib.Path(data_dir)"
      ]
    },
    {
      "cell_type": "code",
      "execution_count": null,
      "metadata": {
        "id": "zgOqMUWQ-iXb"
      },
      "outputs": [],
      "source": [
        "# Configurations\n",
        "\n",
        "SEED = 0\n",
        "IMAGE_SIZE = (224, 224)\n",
        "BATCH_SIZE = 32\n",
        "VALIDATION_SPLIT = 0.20\n",
        "EPOCHS = 10"
      ]
    },
    {
      "cell_type": "code",
      "execution_count": null,
      "metadata": {
        "colab": {
          "base_uri": "https://localhost:8080/"
        },
        "id": "YxBd0Z6E_f-_",
        "outputId": "5dca1633-4c2a-4973-a5ed-0460b7ab5f79"
      },
      "outputs": [
        {
          "name": "stdout",
          "output_type": "stream",
          "text": [
            "Found 3670 files belonging to 5 classes.\n",
            "Using 2936 files for training.\n",
            "Found 3670 files belonging to 5 classes.\n",
            "Using 734 files for validation.\n"
          ]
        }
      ],
      "source": [
        "# Creating the training set\n",
        "\n",
        "training_set = tf.keras.preprocessing.image_dataset_from_directory(\n",
        "    data_dir,\n",
        "    validation_split=VALIDATION_SPLIT,\n",
        "    subset=\"training\",\n",
        "    seed=SEED,\n",
        "    image_size=IMAGE_SIZE,\n",
        "    batch_size=BATCH_SIZE,\n",
        "    label_mode=\"categorical\",\n",
        ")\n",
        "\n",
        "# Creating the validation set\n",
        "\n",
        "validation_set = tf.keras.preprocessing.image_dataset_from_directory(\n",
        "    data_dir,\n",
        "    validation_split=VALIDATION_SPLIT,\n",
        "    subset=\"validation\",\n",
        "    seed=SEED,\n",
        "    image_size=IMAGE_SIZE,\n",
        "    batch_size=BATCH_SIZE,\n",
        "    label_mode=\"categorical\",\n",
        ")"
      ]
    },
    {
      "cell_type": "code",
      "execution_count": null,
      "metadata": {
        "id": "fwzDMHC__xCF"
      },
      "outputs": [],
      "source": [
        "categories = training_set.class_names"
      ]
    },
    {
      "cell_type": "code",
      "execution_count": null,
      "metadata": {
        "colab": {
          "base_uri": "https://localhost:8080/"
        },
        "id": "79DBmEA8ADP8",
        "outputId": "ece785b4-7bce-49df-f33c-dbe2c6dea880"
      },
      "outputs": [
        {
          "name": "stderr",
          "output_type": "stream",
          "text": [
            "WARNING:tensorflow:Using a while_loop for converting RngReadAndSkip\n",
            "WARNING:tensorflow:Using a while_loop for converting Bitcast\n",
            "WARNING:tensorflow:Using a while_loop for converting Bitcast\n",
            "WARNING:tensorflow:Using a while_loop for converting StatelessRandomUniformV2\n",
            "WARNING:tensorflow:Using a while_loop for converting RngReadAndSkip\n",
            "WARNING:tensorflow:Using a while_loop for converting Bitcast\n",
            "WARNING:tensorflow:Using a while_loop for converting Bitcast\n",
            "WARNING:tensorflow:Using a while_loop for converting StatelessRandomUniformV2\n",
            "WARNING:tensorflow:Using a while_loop for converting ImageProjectiveTransformV3\n",
            "WARNING:tensorflow:Using a while_loop for converting RngReadAndSkip\n",
            "WARNING:tensorflow:Using a while_loop for converting Bitcast\n",
            "WARNING:tensorflow:Using a while_loop for converting Bitcast\n",
            "WARNING:tensorflow:Using a while_loop for converting StatelessRandomUniformFullIntV2\n",
            "WARNING:tensorflow:Using a while_loop for converting StatelessRandomGetKeyCounter\n",
            "WARNING:tensorflow:Using a while_loop for converting StatelessRandomUniformV2\n",
            "WARNING:tensorflow:Using a while_loop for converting AdjustContrastv2\n",
            "WARNING:tensorflow:Using a while_loop for converting RngReadAndSkip\n",
            "WARNING:tensorflow:Using a while_loop for converting Bitcast\n",
            "WARNING:tensorflow:Using a while_loop for converting Bitcast\n",
            "WARNING:tensorflow:Using a while_loop for converting StatelessRandomUniformV2\n",
            "WARNING:tensorflow:Using a while_loop for converting RngReadAndSkip\n",
            "WARNING:tensorflow:Using a while_loop for converting Bitcast\n",
            "WARNING:tensorflow:Using a while_loop for converting Bitcast\n",
            "WARNING:tensorflow:Using a while_loop for converting StatelessRandomUniformV2\n",
            "WARNING:tensorflow:Using a while_loop for converting ImageProjectiveTransformV3\n",
            "WARNING:tensorflow:Using a while_loop for converting RngReadAndSkip\n",
            "WARNING:tensorflow:Using a while_loop for converting Bitcast\n",
            "WARNING:tensorflow:Using a while_loop for converting Bitcast\n",
            "WARNING:tensorflow:Using a while_loop for converting StatelessRandomUniformFullIntV2\n",
            "WARNING:tensorflow:Using a while_loop for converting StatelessRandomGetKeyCounter\n",
            "WARNING:tensorflow:Using a while_loop for converting StatelessRandomUniformV2\n",
            "WARNING:tensorflow:Using a while_loop for converting AdjustContrastv2\n"
          ]
        }
      ],
      "source": [
        "AUTOTUNE = tf.data.AUTOTUNE\n",
        "\n",
        "data_augmentation = tf.keras.Sequential([\n",
        "  tf.keras.layers.RandomFlip(\n",
        "      \"horizontal_and_vertical\", \n",
        "      input_shape=(IMAGE_SIZE[0], IMAGE_SIZE[0], 3)\n",
        "  ),\n",
        "  tf.keras.layers.RandomRotation(0.2),\n",
        "  tf.keras.layers.RandomTranslation(height_factor=0.2, width_factor=0.2),\n",
        "  tf.keras.layers.RandomCrop(\n",
        "    128, 128\n",
        "  ),\n",
        "  tf.keras.layers.Resizing(IMAGE_SIZE[0], IMAGE_SIZE[0]),\n",
        "  tf.keras.layers.RandomContrast(0.3)\n",
        "])\n",
        "\n",
        "def prepare(ds, shuffle=False, augment=False):\n",
        "\n",
        "    if shuffle:\n",
        "        ds = ds.shuffle(1000)\n",
        "\n",
        "    # Use data augmentation only on the training set.\n",
        "    if augment:\n",
        "        ds = ds.map(\n",
        "            lambda x, y: (data_augmentation(x, training=True), y), \n",
        "            num_parallel_calls=AUTOTUNE\n",
        "        )\n",
        "\n",
        "    # Use buffered prefetching on all datasets.\n",
        "    return ds.prefetch(buffer_size=AUTOTUNE)\n",
        "\n",
        "train_ds = prepare(training_set, shuffle=True, augment=True)\n",
        "val_ds = prepare(validation_set)"
      ]
    },
    {
      "cell_type": "code",
      "execution_count": null,
      "metadata": {
        "colab": {
          "base_uri": "https://localhost:8080/"
        },
        "id": "RcG7_YVQ_2Aw",
        "outputId": "6ed5b1f5-92b4-46a8-ce8c-56bdd1c75ca7"
      },
      "outputs": [
        {
          "name": "stdout",
          "output_type": "stream",
          "text": [
            "Downloading data from https://storage.googleapis.com/tensorflow/keras-applications/resnet/resnet50_weights_tf_dim_ordering_tf_kernels_notop.h5\n",
            "94765736/94765736 [==============================] - 3s 0us/step\n",
            "Epoch 1/5\n",
            "92/92 [==============================] - 48s 365ms/step - loss: 0.9427 - accuracy: 0.6441 - val_loss: 0.4937 - val_accuracy: 0.8134 - lr: 0.0010\n",
            "Epoch 2/5\n",
            "92/92 [==============================] - 35s 329ms/step - loss: 0.6622 - accuracy: 0.7520 - val_loss: 0.4980 - val_accuracy: 0.8147 - lr: 0.0010\n",
            "Epoch 3/5\n",
            "92/92 [==============================] - 39s 379ms/step - loss: 0.5858 - accuracy: 0.7776 - val_loss: 0.4465 - val_accuracy: 0.8256 - lr: 0.0010\n",
            "Epoch 4/5\n",
            "92/92 [==============================] - 35s 331ms/step - loss: 0.5762 - accuracy: 0.7875 - val_loss: 0.5039 - val_accuracy: 0.8134 - lr: 0.0010\n",
            "Epoch 5/5\n",
            "92/92 [==============================] - 35s 332ms/step - loss: 0.5518 - accuracy: 0.7909 - val_loss: 0.4125 - val_accuracy: 0.8501 - lr: 0.0010\n"
          ]
        }
      ],
      "source": [
        "tf.keras.backend.clear_session()\n",
        "\n",
        "reduce_lr = tf.keras.callbacks.ReduceLROnPlateau(\n",
        "    monitor='val_loss', \n",
        "    factor=0.2,\n",
        "    patience=3, \n",
        "    min_lr=0.0001\n",
        ")\n",
        "\n",
        "resnet_model = tf.keras.applications.resnet50.ResNet50(\n",
        "    input_shape=IMAGE_SIZE+ (3,),\n",
        "    include_top=False,\n",
        "    weights='imagenet',\n",
        ")\n",
        "\n",
        "resnet_model.trainable = False\n",
        "\n",
        "inputs = tf.keras.Input(shape=(224, 224, 3))\n",
        "x = resnet_model(inputs, training=False)\n",
        "x = tf.keras.layers.GlobalAveragePooling2D()(x)\n",
        "x = tf.keras.layers.Flatten()(x)\n",
        "# x = tf.keras.layers.Dropout(0.5)(x)\n",
        "x = tf.keras.layers.Dense(128, activation='relu')(x)\n",
        "x = tf.keras.layers.Dropout(0.5)(x)\n",
        "outputs = tf.keras.layers.Dense(len(categories), activation='softmax')(x)\n",
        "\n",
        "transfer_resnet_model = tf.keras.Model(inputs, outputs)\n",
        "\n",
        "transfer_resnet_model.compile(\n",
        "    optimizer=tf.keras.optimizers.Adam(learning_rate=0.001),\n",
        "    loss=tf.keras.losses.CategoricalCrossentropy(),\n",
        "    metrics=['accuracy']\n",
        ")\n",
        "\n",
        "transfer_fine = transfer_resnet_model.fit(\n",
        "    train_ds,\n",
        "    epochs=5,\n",
        "    validation_data=val_ds,\n",
        "    callbacks=[reduce_lr]\n",
        ")"
      ]
    },
    {
      "cell_type": "code",
      "execution_count": null,
      "metadata": {
        "colab": {
          "base_uri": "https://localhost:8080/"
        },
        "id": "_W7Uyb9HgzEZ",
        "outputId": "ee8d58f0-dc30-4f94-dfdb-4b39610fe151"
      },
      "outputs": [
        {
          "data": {
            "text/plain": [
              "4"
            ]
          },
          "execution_count": 9,
          "metadata": {},
          "output_type": "execute_result"
        }
      ],
      "source": [
        "len(transfer_resnet_model.trainable_variables)"
      ]
    },
    {
      "cell_type": "code",
      "execution_count": null,
      "metadata": {
        "colab": {
          "base_uri": "https://localhost:8080/"
        },
        "id": "Ki_BYqLqd_j0",
        "outputId": "ac9bc880-ca25-4a5f-a98b-c20c2160eea3"
      },
      "outputs": [
        {
          "name": "stdout",
          "output_type": "stream",
          "text": [
            "Number of layers in the base model:  175\n"
          ]
        }
      ],
      "source": [
        "# Let's take a look to see how many layers are in the base model\n",
        "print(\"Number of layers in the base model: \", len(resnet_model.layers))"
      ]
    },
    {
      "cell_type": "code",
      "execution_count": null,
      "metadata": {
        "id": "0iC61re2eP56"
      },
      "outputs": [],
      "source": [
        "resnet_model.trainable = True\n",
        "\n",
        "# Fine-tune from this layer onwards\n",
        "fine_tune_at = 151\n",
        "\n",
        "# Freeze all the layers before the `fine_tune_at` layer\n",
        "for layer in resnet_model.layers[:fine_tune_at]:\n",
        "  layer.trainable = False"
      ]
    },
    {
      "cell_type": "code",
      "execution_count": null,
      "metadata": {
        "colab": {
          "base_uri": "https://localhost:8080/"
        },
        "id": "KPMkHPEtg7Mb",
        "outputId": "94e32ead-c820-4653-cc58-ba321775bd92"
      },
      "outputs": [
        {
          "data": {
            "text/plain": [
              "32"
            ]
          },
          "execution_count": 12,
          "metadata": {},
          "output_type": "execute_result"
        }
      ],
      "source": [
        "transfer_resnet_model.compile(\n",
        "    optimizer=tf.keras.optimizers.Adam(learning_rate=0.0001),\n",
        "    loss=tf.keras.losses.CategoricalCrossentropy(),\n",
        "    metrics=['accuracy']\n",
        ")\n",
        "\n",
        "len(transfer_resnet_model.trainable_variables)"
      ]
    },
    {
      "cell_type": "code",
      "execution_count": null,
      "metadata": {
        "colab": {
          "base_uri": "https://localhost:8080/"
        },
        "id": "QjHNqm_MfLXI",
        "outputId": "912d03c0-0924-41c8-be11-2ab6f9470052"
      },
      "outputs": [
        {
          "name": "stdout",
          "output_type": "stream",
          "text": [
            "Epoch 5/15\n",
            "92/92 [==============================] - 41s 350ms/step - loss: 0.4869 - accuracy: 0.8161 - val_loss: 0.4535 - val_accuracy: 0.8501 - lr: 1.0000e-04\n",
            "Epoch 6/15\n",
            "92/92 [==============================] - 36s 345ms/step - loss: 0.4421 - accuracy: 0.8542 - val_loss: 0.4462 - val_accuracy: 0.8597 - lr: 1.0000e-04\n",
            "Epoch 7/15\n",
            "92/92 [==============================] - 37s 350ms/step - loss: 0.3999 - accuracy: 0.8580 - val_loss: 0.4278 - val_accuracy: 0.8638 - lr: 1.0000e-04\n",
            "Epoch 8/15\n",
            "92/92 [==============================] - 37s 347ms/step - loss: 0.3916 - accuracy: 0.8631 - val_loss: 0.4765 - val_accuracy: 0.8515 - lr: 1.0000e-04\n",
            "Epoch 9/15\n",
            "92/92 [==============================] - 38s 358ms/step - loss: 0.3308 - accuracy: 0.8856 - val_loss: 0.3980 - val_accuracy: 0.8801 - lr: 1.0000e-04\n",
            "Epoch 10/15\n",
            "92/92 [==============================] - 37s 351ms/step - loss: 0.3177 - accuracy: 0.8907 - val_loss: 0.3974 - val_accuracy: 0.8719 - lr: 1.0000e-04\n",
            "Epoch 11/15\n",
            "92/92 [==============================] - 38s 366ms/step - loss: 0.3048 - accuracy: 0.8948 - val_loss: 0.4933 - val_accuracy: 0.8556 - lr: 1.0000e-04\n",
            "Epoch 12/15\n",
            "92/92 [==============================] - 36s 339ms/step - loss: 0.3099 - accuracy: 0.8852 - val_loss: 0.4944 - val_accuracy: 0.8542 - lr: 1.0000e-04\n",
            "Epoch 13/15\n",
            "92/92 [==============================] - 37s 346ms/step - loss: 0.2778 - accuracy: 0.8992 - val_loss: 0.4124 - val_accuracy: 0.8869 - lr: 1.0000e-04\n",
            "Epoch 14/15\n",
            "92/92 [==============================] - 36s 344ms/step - loss: 0.2346 - accuracy: 0.9152 - val_loss: 0.4870 - val_accuracy: 0.8856 - lr: 2.0000e-05\n",
            "Epoch 15/15\n",
            "92/92 [==============================] - 40s 382ms/step - loss: 0.2182 - accuracy: 0.9275 - val_loss: 0.4508 - val_accuracy: 0.8883 - lr: 2.0000e-05\n"
          ]
        }
      ],
      "source": [
        "reduce_lr = tf.keras.callbacks.ReduceLROnPlateau(\n",
        "    monitor='val_loss', \n",
        "    factor=0.2,\n",
        "    patience=3, \n",
        "    min_lr=0.00001\n",
        ")\n",
        "\n",
        "transfer_history = transfer_resnet_model.fit(\n",
        "  train_ds,\n",
        "  epochs=15,\n",
        "  initial_epoch=transfer_fine.epoch[-1],\n",
        "  validation_data=val_ds,\n",
        "  callbacks=[reduce_lr]\n",
        ")"
      ]
    },
    {
      "cell_type": "code",
      "execution_count": null,
      "metadata": {
        "id": "Kou3qxdJhcDD"
      },
      "outputs": [],
      "source": [
        "import matplotlib.pyplot as plt\n",
        "\n",
        "def plot_actual_prediction(model, categories, validation_set):\n",
        "\n",
        "    plt.figure(figsize=(20, 10))\n",
        "    for images, labels in validation_set.take(3):\n",
        "        for i in range(45):\n",
        "            ax = plt.subplot(9, 5, i + 1)\n",
        "            \n",
        "            img_array = images[i].numpy().astype(\"uint8\")\n",
        "            prediction = model.predict(np.array([img_array]))\n",
        "            prediction_name = categories[np.argmax(prediction)]\n",
        "            real_name = categories[np.argmax(labels[i])]\n",
        "            \n",
        "            plt.imshow(img_array)\n",
        "            if prediction_name == real_name:\n",
        "                plt.title(f'real: {real_name}\\npred:{prediction_name}', fontdict={'color': 'g'})\n",
        "            else:\n",
        "                plt.title(f'real: {real_name}\\npred:{prediction_name}', fontdict={'color': 'r'})\n",
        "            \n",
        "    plt.axis(\"off\")\n",
        "    plt.tight_layout();"
      ]
    },
    {
      "cell_type": "code",
      "execution_count": null,
      "metadata": {
        "id": "2_5XF4BAxAu5"
      },
      "outputs": [],
      "source": [
        "# plot_actual_prediction(transfer_resnet_model, categories, val_ds)"
      ]
    },
    {
      "cell_type": "code",
      "execution_count": null,
      "metadata": {
        "colab": {
          "base_uri": "https://localhost:8080/"
        },
        "id": "hexVVAga5Mu4",
        "outputId": "02350d3d-4479-4f7a-878c-a18c690f133e"
      },
      "outputs": [
        {
          "name": "stdout",
          "output_type": "stream",
          "text": [
            "23/23 [==============================] - 4s 100ms/step\n"
          ]
        }
      ],
      "source": [
        "from sklearn.metrics import classification_report\n",
        "\n",
        "predicted_classes = np.argmax(transfer_resnet_model.predict(val_ds), axis=1)"
      ]
    },
    {
      "cell_type": "code",
      "execution_count": null,
      "metadata": {
        "id": "9Jc54GtFC6pF"
      },
      "outputs": [],
      "source": [
        "# predicted_classes"
      ]
    },
    {
      "cell_type": "code",
      "execution_count": null,
      "metadata": {
        "id": "mjkDgVuhC_0c"
      },
      "outputs": [],
      "source": [
        "# true_classes = np.argmax(tf.concat([y for x, y in val_ds], axis=0), axis=1)"
      ]
    },
    {
      "cell_type": "code",
      "execution_count": null,
      "metadata": {
        "id": "2uI9CutrDFHb"
      },
      "outputs": [],
      "source": [
        "# true_classes"
      ]
    },
    {
      "cell_type": "code",
      "execution_count": null,
      "metadata": {
        "id": "UypkMNmSWPA_"
      },
      "outputs": [],
      "source": [
        "# true_classes = val_ds.class_labels\n",
        "true_classes = np.argmax(tf.concat([y for x, y in val_ds], axis=0), axis=1)\n",
        "report = classification_report(true_classes, predicted_classes, target_names=categories)"
      ]
    },
    {
      "cell_type": "code",
      "execution_count": null,
      "metadata": {
        "colab": {
          "base_uri": "https://localhost:8080/"
        },
        "id": "Ahb7_MxmPtQj",
        "outputId": "06cd1505-56f5-4673-d7fa-5b220877c050"
      },
      "outputs": [
        {
          "name": "stdout",
          "output_type": "stream",
          "text": [
            "              precision    recall  f1-score   support\n",
            "\n",
            "       daisy       0.12      0.13      0.13       117\n",
            "   dandelion       0.27      0.25      0.26       194\n",
            "       roses       0.18      0.17      0.17       138\n",
            "  sunflowers       0.15      0.15      0.15       137\n",
            "      tulips       0.20      0.23      0.21       148\n",
            "\n",
            "    accuracy                           0.19       734\n",
            "   macro avg       0.18      0.18      0.18       734\n",
            "weighted avg       0.19      0.19      0.19       734\n",
            "\n"
          ]
        }
      ],
      "source": [
        "print(report)"
      ]
    },
    {
      "cell_type": "code",
      "execution_count": null,
      "metadata": {
        "colab": {
          "base_uri": "https://localhost:8080/"
        },
        "id": "xCLZmFMePt_U",
        "outputId": "18caa7d6-f81e-4429-fb62-00c3fdee8d65"
      },
      "outputs": [
        {
          "name": "stderr",
          "output_type": "stream",
          "text": [
            "WARNING:absl:Found untraced functions such as _jit_compiled_convolution_op, _jit_compiled_convolution_op, _jit_compiled_convolution_op, _jit_compiled_convolution_op, _jit_compiled_convolution_op while saving (showing 5 of 53). These functions will not be directly callable after loading.\n"
          ]
        }
      ],
      "source": [
        "transfer_resnet_model.save(\"saved_model/transfer_model_2.h5\")"
      ]
    },
    {
      "cell_type": "code",
      "execution_count": null,
      "metadata": {
        "colab": {
          "base_uri": "https://localhost:8080/"
        },
        "id": "rkRhbgZ2DwTq",
        "outputId": "5ac4d9b1-1d91-44b2-92ef-b486d001a209"
      },
      "outputs": [
        {
          "name": "stdout",
          "output_type": "stream",
          "text": [
            "23/23 [==============================] - 3s 93ms/step\n"
          ]
        }
      ],
      "source": [
        "predictions = transfer_resnet_model.predict(val_ds)"
      ]
    },
    {
      "cell_type": "code",
      "execution_count": null,
      "metadata": {
        "colab": {
          "base_uri": "https://localhost:8080/"
        },
        "id": "PM3t1ZUgH93R",
        "outputId": "a65c6f20-c64f-46eb-fa85-18e443241de4"
      },
      "outputs": [
        {
          "data": {
            "text/plain": [
              "array([1.1351188e-08, 1.0000000e+00, 5.0380178e-10, 9.6835662e-10,\n",
              "       2.3197676e-11], dtype=float32)"
            ]
          },
          "execution_count": 30,
          "metadata": {},
          "output_type": "execute_result"
        }
      ],
      "source": [
        "predictions[0]"
      ]
    },
    {
      "cell_type": "code",
      "execution_count": null,
      "metadata": {
        "colab": {
          "base_uri": "https://localhost:8080/"
        },
        "id": "T7RQxjWTIFhT",
        "outputId": "3e308057-0bc4-4149-d598-0d9663075d4f"
      },
      "outputs": [
        {
          "data": {
            "text/plain": [
              "array([1.1351188e-08, 1.0000000e+00, 5.0380178e-10, 9.6835662e-10,\n",
              "       2.3197676e-11], dtype=float32)"
            ]
          },
          "execution_count": 32,
          "metadata": {},
          "output_type": "execute_result"
        }
      ],
      "source": [
        "predictions[0]"
      ]
    },
    {
      "cell_type": "code",
      "execution_count": null,
      "metadata": {
        "colab": {
          "base_uri": "https://localhost:8080/",
          "height": 206
        },
        "id": "Dd-_0c1EITFL",
        "outputId": "59542126-afc9-4a7b-f52c-91cd54bd5ba6"
      },
      "outputs": [
        {
          "data": {
            "text/html": [
              "\n",
              "  <div id=\"df-500fd47c-1a37-4f81-ac77-086c8a391b9e\">\n",
              "    <div class=\"colab-df-container\">\n",
              "      <div>\n",
              "<style scoped>\n",
              "    .dataframe tbody tr th:only-of-type {\n",
              "        vertical-align: middle;\n",
              "    }\n",
              "\n",
              "    .dataframe tbody tr th {\n",
              "        vertical-align: top;\n",
              "    }\n",
              "\n",
              "    .dataframe thead th {\n",
              "        text-align: right;\n",
              "    }\n",
              "</style>\n",
              "<table border=\"1\" class=\"dataframe\">\n",
              "  <thead>\n",
              "    <tr style=\"text-align: right;\">\n",
              "      <th></th>\n",
              "      <th>Flower</th>\n",
              "      <th>Prediction</th>\n",
              "    </tr>\n",
              "  </thead>\n",
              "  <tbody>\n",
              "    <tr>\n",
              "      <th>1</th>\n",
              "      <td>dandelion</td>\n",
              "      <td>1.0</td>\n",
              "    </tr>\n",
              "    <tr>\n",
              "      <th>0</th>\n",
              "      <td>daisy</td>\n",
              "      <td>0.0</td>\n",
              "    </tr>\n",
              "    <tr>\n",
              "      <th>3</th>\n",
              "      <td>sunflowers</td>\n",
              "      <td>0.0</td>\n",
              "    </tr>\n",
              "    <tr>\n",
              "      <th>2</th>\n",
              "      <td>roses</td>\n",
              "      <td>0.0</td>\n",
              "    </tr>\n",
              "    <tr>\n",
              "      <th>4</th>\n",
              "      <td>tulips</td>\n",
              "      <td>0.0</td>\n",
              "    </tr>\n",
              "  </tbody>\n",
              "</table>\n",
              "</div>\n",
              "      <button class=\"colab-df-convert\" onclick=\"convertToInteractive('df-500fd47c-1a37-4f81-ac77-086c8a391b9e')\"\n",
              "              title=\"Convert this dataframe to an interactive table.\"\n",
              "              style=\"display:none;\">\n",
              "        \n",
              "  <svg xmlns=\"http://www.w3.org/2000/svg\" height=\"24px\"viewBox=\"0 0 24 24\"\n",
              "       width=\"24px\">\n",
              "    <path d=\"M0 0h24v24H0V0z\" fill=\"none\"/>\n",
              "    <path d=\"M18.56 5.44l.94 2.06.94-2.06 2.06-.94-2.06-.94-.94-2.06-.94 2.06-2.06.94zm-11 1L8.5 8.5l.94-2.06 2.06-.94-2.06-.94L8.5 2.5l-.94 2.06-2.06.94zm10 10l.94 2.06.94-2.06 2.06-.94-2.06-.94-.94-2.06-.94 2.06-2.06.94z\"/><path d=\"M17.41 7.96l-1.37-1.37c-.4-.4-.92-.59-1.43-.59-.52 0-1.04.2-1.43.59L10.3 9.45l-7.72 7.72c-.78.78-.78 2.05 0 2.83L4 21.41c.39.39.9.59 1.41.59.51 0 1.02-.2 1.41-.59l7.78-7.78 2.81-2.81c.8-.78.8-2.07 0-2.86zM5.41 20L4 18.59l7.72-7.72 1.47 1.35L5.41 20z\"/>\n",
              "  </svg>\n",
              "      </button>\n",
              "      \n",
              "  <style>\n",
              "    .colab-df-container {\n",
              "      display:flex;\n",
              "      flex-wrap:wrap;\n",
              "      gap: 12px;\n",
              "    }\n",
              "\n",
              "    .colab-df-convert {\n",
              "      background-color: #E8F0FE;\n",
              "      border: none;\n",
              "      border-radius: 50%;\n",
              "      cursor: pointer;\n",
              "      display: none;\n",
              "      fill: #1967D2;\n",
              "      height: 32px;\n",
              "      padding: 0 0 0 0;\n",
              "      width: 32px;\n",
              "    }\n",
              "\n",
              "    .colab-df-convert:hover {\n",
              "      background-color: #E2EBFA;\n",
              "      box-shadow: 0px 1px 2px rgba(60, 64, 67, 0.3), 0px 1px 3px 1px rgba(60, 64, 67, 0.15);\n",
              "      fill: #174EA6;\n",
              "    }\n",
              "\n",
              "    [theme=dark] .colab-df-convert {\n",
              "      background-color: #3B4455;\n",
              "      fill: #D2E3FC;\n",
              "    }\n",
              "\n",
              "    [theme=dark] .colab-df-convert:hover {\n",
              "      background-color: #434B5C;\n",
              "      box-shadow: 0px 1px 3px 1px rgba(0, 0, 0, 0.15);\n",
              "      filter: drop-shadow(0px 1px 2px rgba(0, 0, 0, 0.3));\n",
              "      fill: #FFFFFF;\n",
              "    }\n",
              "  </style>\n",
              "\n",
              "      <script>\n",
              "        const buttonEl =\n",
              "          document.querySelector('#df-500fd47c-1a37-4f81-ac77-086c8a391b9e button.colab-df-convert');\n",
              "        buttonEl.style.display =\n",
              "          google.colab.kernel.accessAllowed ? 'block' : 'none';\n",
              "\n",
              "        async function convertToInteractive(key) {\n",
              "          const element = document.querySelector('#df-500fd47c-1a37-4f81-ac77-086c8a391b9e');\n",
              "          const dataTable =\n",
              "            await google.colab.kernel.invokeFunction('convertToInteractive',\n",
              "                                                     [key], {});\n",
              "          if (!dataTable) return;\n",
              "\n",
              "          const docLinkHtml = 'Like what you see? Visit the ' +\n",
              "            '<a target=\"_blank\" href=https://colab.research.google.com/notebooks/data_table.ipynb>data table notebook</a>'\n",
              "            + ' to learn more about interactive tables.';\n",
              "          element.innerHTML = '';\n",
              "          dataTable['output_type'] = 'display_data';\n",
              "          await google.colab.output.renderOutput(dataTable, element);\n",
              "          const docLink = document.createElement('div');\n",
              "          docLink.innerHTML = docLinkHtml;\n",
              "          element.appendChild(docLink);\n",
              "        }\n",
              "      </script>\n",
              "    </div>\n",
              "  </div>\n",
              "  "
            ],
            "text/plain": [
              "       Flower Prediction\n",
              "1   dandelion        1.0\n",
              "0       daisy        0.0\n",
              "3  sunflowers        0.0\n",
              "2       roses        0.0\n",
              "4      tulips        0.0"
            ]
          },
          "execution_count": 40,
          "metadata": {},
          "output_type": "execute_result"
        }
      ],
      "source": [
        "import pandas as pd\n",
        "d = pd.DataFrame([categories, predictions[0]]).T\n",
        "d.columns = [\"Flower\", \"Prediction\"]\n",
        "d.sort_values(by='Prediction', inplace=True, ascending=False)\n",
        "d"
      ]
    },
    {
      "cell_type": "code",
      "execution_count": null,
      "metadata": {
        "id": "7NeDoIfEJXh5"
      },
      "outputs": [],
      "source": []
    }
  ],
  "metadata": {
    "accelerator": "GPU",
    "colab": {
      "provenance": []
    },
    "gpuClass": "standard",
    "kernelspec": {
      "display_name": "Python 3",
      "language": "python",
      "name": "python3"
    },
    "language_info": {
      "name": "python",
      "version": "3.10.6 | packaged by conda-forge | (main, Aug 22 2022, 20:41:22) [Clang 13.0.1 ]"
    },
    "vscode": {
      "interpreter": {
        "hash": "4484fdc5993b177ce97364fa408f1d1e72c623384181aa31524f294720741f08"
      }
    }
  },
  "nbformat": 4,
  "nbformat_minor": 0
}
